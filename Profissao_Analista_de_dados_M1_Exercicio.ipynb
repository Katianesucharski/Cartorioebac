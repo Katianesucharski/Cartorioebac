{
  "nbformat": 4,
  "nbformat_minor": 0,
  "metadata": {
    "colab": {
      "provenance": [],
      "include_colab_link": true
    },
    "kernelspec": {
      "name": "python3",
      "display_name": "Python 3"
    }
  },
  "cells": [
    {
      "cell_type": "markdown",
      "metadata": {
        "id": "view-in-github",
        "colab_type": "text"
      },
      "source": [
        "<a href=\"https://colab.research.google.com/github/Katianesucharski/Cartorioebac/blob/main/Profissao_Analista_de_dados_M1_Exercicio.ipynb\" target=\"_parent\"><img src=\"https://colab.research.google.com/assets/colab-badge.svg\" alt=\"Open In Colab\"/></a>"
      ]
    },
    {
      "cell_type": "markdown",
      "metadata": {
        "id": "KJqp9AANOCtf"
      },
      "source": [
        "<img src=\"https://raw.githubusercontent.com/andre-marcos-perez/ebac-course-utils/main/media/logo/newebac_logo_black_half.png\" alt=\"ebac-logo\">\n",
        "\n",
        "---\n",
        "\n",
        "# **Módulo** | Python: Variáveis & Tipos de Dados\n",
        "Caderno de **Exercícios**<br>\n",
        "Professor [André Perez](https://www.linkedin.com/in/andremarcosperez/)\n",
        "\n",
        "---"
      ]
    },
    {
      "cell_type": "markdown",
      "metadata": {
        "id": "d9jDtUbDOE1-"
      },
      "source": [
        "# **Tópicos**\n",
        "\n",
        "<ol type=\"1\">\n",
        "  <li>Introdução ao Google Colab;</li>\n",
        "  <li>Variáveis;</li>\n",
        "  <li>Números;</li>\n",
        "  <li><i>Strings;</i></li>\n",
        "  <li>Boleanos.</li>\n",
        "</ol>"
      ]
    },
    {
      "cell_type": "markdown",
      "metadata": {
        "id": "SmoHgt-lwkpD"
      },
      "source": [
        "---"
      ]
    },
    {
      "cell_type": "markdown",
      "metadata": {
        "id": "GABI6OW8OfQ2"
      },
      "source": [
        "# **Exercícios**"
      ]
    },
    {
      "cell_type": "markdown",
      "metadata": {
        "id": "muD1vxozykSC"
      },
      "source": [
        "## 1\\. Google Colab"
      ]
    },
    {
      "cell_type": "markdown",
      "metadata": {
        "id": "ahrFfCuBxJKs"
      },
      "source": [
        "Crie uma célula de código que escreva o texto \"Olá mundo!\", utilize o comando `print`."
      ]
    },
    {
      "cell_type": "code",
      "source": [
        "print(\"Ola Mundo!\")"
      ],
      "metadata": {
        "colab": {
          "base_uri": "https://localhost:8080/"
        },
        "id": "Ls_nGMmYfXFZ",
        "outputId": "553199f0-7c33-4dbd-b6bd-97d165100966"
      },
      "execution_count": null,
      "outputs": [
        {
          "output_type": "stream",
          "name": "stdout",
          "text": [
            "Ola Mundo!\n"
          ]
        }
      ]
    },
    {
      "cell_type": "markdown",
      "metadata": {
        "id": "KI9zQRT2xa7m"
      },
      "source": [
        "Crie uma célua de texto e adicione uma imagem."
      ]
    },
    {
      "cell_type": "markdown",
      "source": [
        "Segue meu exercicio.\n",
        "![4-exercicios-em-Python-2.png.webp](data:image/webp;base64,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)"
      ],
      "metadata": {
        "id": "aZY1X0zW00Qm"
      }
    },
    {
      "cell_type": "markdown",
      "metadata": {
        "id": "zMN1Q3jdwoJm"
      },
      "source": [
        "---"
      ]
    },
    {
      "cell_type": "markdown",
      "metadata": {
        "id": "tFYOPLS3xiwe"
      },
      "source": [
        "## 2\\. Números"
      ]
    },
    {
      "cell_type": "markdown",
      "metadata": {
        "id": "O2G9gt7tx2c-"
      },
      "source": [
        "Preencha as células de código para preencher os valores de (A), (B) e (C) na tabela de ticket médio abaixo:\n",
        "\n",
        "<br>\n",
        "\n",
        "| Dia   | Valor Total Vendas | Qtd Total Vendas | Ticket Medio |\n",
        "|-------|--------------------|------------------|--------------|\n",
        "| 19/01 | (A)                | 3                | 320.52       |\n",
        "| 20/01 | 834.47             | (B)              | 119.21       |\n",
        "| 23/01 | 15378.12           | 5                | (C)          |"
      ]
    },
    {
      "cell_type": "code",
      "metadata": {
        "id": "nsrKH9EizNRD",
        "colab": {
          "base_uri": "https://localhost:8080/"
        },
        "outputId": "5d97989c-ff0b-45d3-a83d-8ccab84a5cf9"
      },
      "source": [
        "tkt_19 = 320.52\n",
        "sqv_19 = 3\n",
        "\n",
        "svv_19 = tkt_19 / sqv_19\n",
        "print(svv_19)"
      ],
      "execution_count": null,
      "outputs": [
        {
          "output_type": "stream",
          "name": "stdout",
          "text": [
            "106.83999999999999\n"
          ]
        }
      ]
    },
    {
      "cell_type": "code",
      "metadata": {
        "id": "QQ1GBGHJzMmi",
        "colab": {
          "base_uri": "https://localhost:8080/"
        },
        "outputId": "d4bf6cbf-2ad8-4f1a-e348-f70ebcee186e"
      },
      "source": [
        "svv_20 = 834.47\n",
        "tkt_20 = 119.21\n",
        "\n",
        "sqv_20 = svv_20 / tkt_20\n",
        "print(sqv_20)"
      ],
      "execution_count": null,
      "outputs": [
        {
          "output_type": "stream",
          "name": "stdout",
          "text": [
            "7.000000000000001\n"
          ]
        }
      ]
    },
    {
      "cell_type": "code",
      "metadata": {
        "id": "W-li0nSMzKNa",
        "colab": {
          "base_uri": "https://localhost:8080/"
        },
        "outputId": "1f9fb4bc-9743-4f9a-d6da-f21b74042f57"
      },
      "source": [
        "svv_23 = 15378.12\n",
        "sqv_23 = 5\n",
        "\n",
        "tkt_23 = svv_23 / sqv_23\n",
        "print(tkt_23)"
      ],
      "execution_count": null,
      "outputs": [
        {
          "output_type": "stream",
          "name": "stdout",
          "text": [
            "3075.6240000000003\n"
          ]
        }
      ]
    },
    {
      "cell_type": "markdown",
      "metadata": {
        "id": "3eoP-Vj9yzh8"
      },
      "source": [
        "---"
      ]
    },
    {
      "cell_type": "markdown",
      "metadata": {
        "id": "yUJ6kdony6Pr"
      },
      "source": [
        "## 3\\. Strings"
      ]
    },
    {
      "cell_type": "markdown",
      "metadata": {
        "id": "KDuZpg-5zCvO"
      },
      "source": [
        "Aplique três métodos distintos na *string* abaixo, você pode conferir alguns métodos neste [link](https://www.w3schools.com/python/python_ref_string.asp):"
      ]
    },
    {
      "cell_type": "code",
      "metadata": {
        "id": "k9zbyf7BzjKj",
        "colab": {
          "base_uri": "https://localhost:8080/"
        },
        "outputId": "34682d9f-a722-48fe-aff2-2d5d454a933f"
      },
      "source": [
        "cancao = 'Roda mundo, roda gigante, roda moinho, roda pião.'\n",
        "x = cancao.upper()\n",
        "print(x)"
      ],
      "execution_count": null,
      "outputs": [
        {
          "output_type": "stream",
          "name": "stdout",
          "text": [
            "RODA MUNDO, RODA GIGANTE, RODA MOINHO, RODA PIÃO.\n"
          ]
        }
      ]
    },
    {
      "cell_type": "code",
      "source": [
        "cancao = 'Roda mundo, roda gigante, roda moinho, roda pião.'\n",
        "x = cancao.find(\"m\")\n",
        "print(x)"
      ],
      "metadata": {
        "colab": {
          "base_uri": "https://localhost:8080/"
        },
        "id": "lMAGSgkMic0w",
        "outputId": "66e1726e-7e28-4ab6-8cf6-c876b4e76bc4"
      },
      "execution_count": null,
      "outputs": [
        {
          "output_type": "stream",
          "name": "stdout",
          "text": [
            "5\n"
          ]
        }
      ]
    },
    {
      "cell_type": "code",
      "source": [
        "cancao = 'Roda mundo, roda gigante, roda moinho, roda pião.'\n",
        "cancao_roda = cancao[0:25]\n",
        "cancao_moinho = cancao[26:49]\n",
        "print(cancao_roda)\n",
        "print(cancao_moinho)"
      ],
      "metadata": {
        "colab": {
          "base_uri": "https://localhost:8080/"
        },
        "id": "xMN8Utx8nzIn",
        "outputId": "d70e5da4-47db-4a2a-b5ac-3e58ea470d54"
      },
      "execution_count": null,
      "outputs": [
        {
          "output_type": "stream",
          "name": "stdout",
          "text": [
            "Roda mundo, roda gigante,\n",
            "roda moinho, roda pião.\n"
          ]
        }
      ]
    },
    {
      "cell_type": "markdown",
      "metadata": {
        "id": "guZMHXVq0FnC"
      },
      "source": [
        "Extraia da string abaixo o valor da taxa **selic** na variável `selic` e o valor do **ano** na variavel `ano`. Imprima os valores na tela."
      ]
    },
    {
      "cell_type": "code",
      "metadata": {
        "id": "cbx_P4IQ0agK",
        "colab": {
          "base_uri": "https://localhost:8080/"
        },
        "outputId": "4a70626d-a388-4efd-e50f-88a69daac3bb"
      },
      "source": [
        "noticia = 'Selic vai a 2,75% e supera expectativas; é a primeira alta em 6 anos.'\n",
        "selic = 2.75\n",
        "print(selic)\n",
        "print(type(selic))"
      ],
      "execution_count": null,
      "outputs": [
        {
          "output_type": "stream",
          "name": "stdout",
          "text": [
            "2.75\n",
            "<class 'float'>\n"
          ]
        }
      ]
    },
    {
      "cell_type": "code",
      "source": [
        "noticia = 'Selic vai a 2,75% e supera expectativas; é a primeira alta em 6 anos.'\n",
        "ano = 6\n",
        "print(ano)\n",
        "print(type(ano))"
      ],
      "metadata": {
        "colab": {
          "base_uri": "https://localhost:8080/"
        },
        "id": "5Cw75pUIwHUG",
        "outputId": "08382d86-e89e-4101-ad1e-0cae42344de5"
      },
      "execution_count": null,
      "outputs": [
        {
          "output_type": "stream",
          "name": "stdout",
          "text": [
            "6\n",
            "<class 'int'>\n"
          ]
        }
      ]
    },
    {
      "cell_type": "markdown",
      "metadata": {
        "id": "wWzbu-OC0z3L"
      },
      "source": [
        "---"
      ]
    },
    {
      "cell_type": "markdown",
      "metadata": {
        "id": "no8w_Ati01xP"
      },
      "source": [
        "## 4\\. Booleanos"
      ]
    },
    {
      "cell_type": "markdown",
      "metadata": {
        "id": "D_0tC3SC099N"
      },
      "source": [
        "Utilize a tabela da verdade para responder: qual o valor da variável x?"
      ]
    },
    {
      "cell_type": "code",
      "metadata": {
        "id": "XwIEbxf91SpU",
        "colab": {
          "base_uri": "https://localhost:8080/"
        },
        "outputId": "96ff83cb-af16-448e-9a56-c827b0affc96"
      },
      "source": [
        "a = False\n",
        "b = True\n",
        "\n",
        "\n",
        "x = not a & b\n",
        "print(not False)\n",
        "\n",
        "\n"
      ],
      "execution_count": null,
      "outputs": [
        {
          "output_type": "stream",
          "name": "stdout",
          "text": [
            "True\n"
          ]
        }
      ]
    }
  ]
}